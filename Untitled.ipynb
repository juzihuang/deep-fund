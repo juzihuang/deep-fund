{
 "cells": [
  {
   "cell_type": "code",
   "execution_count": 15,
   "metadata": {
    "collapsed": false
   },
   "outputs": [
    {
     "data": {
      "image/png": "[encoded data removed]",
      "text/plain": [
       "<matplotlib.figure.Figure at 0x10bcc3748>"
      ]
     },
     "metadata": {},
     "output_type": "display_data"
    }
   ],
   "source": [
    "import numpy as np\n",
    "import matplotlib.pyplot as plt \n",
    "\n",
    "n_groups = 2\n",
    "means_men = (0.9056, 0.3666)\n",
    "means_women = (0.9466, 0.2419)\n",
    "\n",
    "fig, ax = plt.subplots()\n",
    "index = np.arange(n_groups)\n",
    "bar_width = 0.1\n",
    " \n",
    "opacity = 0.8\n",
    "rects1 = plt.bar(index, means_men, bar_width,alpha=opacity, color='black',label='Linear Regression')\n",
    "rects2 = plt.bar(index + bar_width, means_women, bar_width,alpha=opacity,color='yellow',label='BP NN')\n",
    "plt.xlabel('Performance Parameters')\n",
    "plt.ylabel('Scores')\n",
    "# plt.title('Scores by group and gender')\n",
    "plt.xticks(index + bar_width, ('PCC', 'RMSE'))\n",
    "plt.ylim(0,1)\n",
    "plt.legend()\n",
    "\n",
    "plt.tight_layout()\n",
    "plt.show()\n"
   ]
  },
  {
   "cell_type": "code",
   "execution_count": null,
   "metadata": {
    "collapsed": true
   },
   "outputs": [],
   "source": []
  }
 ],
 "metadata": {
  "kernelspec": {
   "display_name": "Python 3",
   "language": "python",
   "name": "python3"
  },
  "language_info": {
   "codemirror_mode": {
    "name": "ipython",
    "version": 3
   },
   "file_extension": ".py",
   "mimetype": "text/x-python",
   "name": "python",
   "nbconvert_exporter": "python",
   "pygments_lexer": "ipython3",
   "version": "3.6.0"
  }
 },
 "nbformat": 4,
 "nbformat_minor": 2
}
